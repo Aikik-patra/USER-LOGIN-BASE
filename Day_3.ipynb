{
 "cells": [
  {
   "cell_type": "code",
   "execution_count": null,
   "metadata": {},
   "outputs": [
    {
     "name": "stdout",
     "output_type": "stream",
     "text": [
      "your Email is : jsjsjsjs\n",
      "your Password is : sjsjsjs\n",
      "your Name is : jsjsjs\n"
     ]
    }
   ],
   "source": [
    "#using Dictionary userinput of user data\n",
    "\n",
    "userData = {\"Email\":\"\",\"Password\":\"\",\"Name\":\"\"}\n",
    "for i in userData:\n",
    "    userData[i]=input(f\"Enter your {i}\")\n",
    "for i in userData:\n",
    "    print(f\"your {i} is : {userData[i]}\")"
   ]
  },
  {
   "cell_type": "code",
   "execution_count": null,
   "metadata": {},
   "outputs": [],
   "source": []
  },
  {
   "cell_type": "code",
   "execution_count": null,
   "metadata": {},
   "outputs": [],
   "source": []
  },
  {
   "cell_type": "code",
   "execution_count": null,
   "metadata": {},
   "outputs": [],
   "source": []
  },
  {
   "cell_type": "code",
   "execution_count": null,
   "metadata": {},
   "outputs": [],
   "source": []
  }
 ],
 "metadata": {
  "kernelspec": {
   "display_name": "base",
   "language": "python",
   "name": "python3"
  },
  "language_info": {
   "codemirror_mode": {
    "name": "ipython",
    "version": 3
   },
   "file_extension": ".py",
   "mimetype": "text/x-python",
   "name": "python",
   "nbconvert_exporter": "python",
   "pygments_lexer": "ipython3",
   "version": "3.11.4"
  }
 },
 "nbformat": 4,
 "nbformat_minor": 2
}
