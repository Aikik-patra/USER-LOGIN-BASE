{
 "cells": [
  {
   "cell_type": "code",
   "execution_count": null,
   "metadata": {},
   "outputs": [
    {
     "name": "stdout",
     "output_type": "stream",
     "text": [
      "your Email is : jsjsjsjs\n",
      "your Password is : sjsjsjs\n",
      "your Name is : jsjsjs\n"
     ]
    }
   ],
   "source": [
    "#using Dictionary userinput of user data\n",
    "\n",
    "userData = {\"Email\":\"\",\"Password\":\"\",\"Name\":\"\"}\n",
    "for i in userData:\n",
    "    userData[i]=input(f\"Enter your {i}\")\n",
    "for i in userData:\n",
    "    print(f\"your {i} is : {userData[i]}\")"
   ]
  },
  {
   "cell_type": "code",
   "execution_count": null,
   "metadata": {},
   "outputs": [
    {
     "name": "stdout",
     "output_type": "stream",
     "text": [
      "\n",
      "1. Sign Up\n",
      "2. Login\n",
      "3. Delete User\n",
      "4. Display Users\n",
      "5. Exit\n",
      "Sign-up successful!\n",
      "\n",
      "1. Sign Up\n",
      "2. Login\n",
      "3. Delete User\n",
      "4. Display Users\n",
      "5. Exit\n",
      "\n",
      "Registered Users:\n",
      "+-------+-----------------+----------+\n",
      "| Name  |      Email      | Password |\n",
      "+-------+-----------------+----------+\n",
      "| aikit | email@gmail.com |   pass   |\n",
      "+-------+-----------------+----------+\n",
      "\n",
      "1. Sign Up\n",
      "2. Login\n",
      "3. Delete User\n",
      "4. Display Users\n",
      "5. Exit\n",
      "Login successful!\n",
      "\n",
      "1. Sign Up\n",
      "2. Login\n",
      "3. Delete User\n",
      "4. Display Users\n",
      "5. Exit\n",
      "User deleted successfully!\n",
      "\n",
      "1. Sign Up\n",
      "2. Login\n",
      "3. Delete User\n",
      "4. Display Users\n",
      "5. Exit\n",
      "Exiting...\n"
     ]
    }
   ],
   "source": [
    "import getpass\n",
    "from tabulate import tabulate\n",
    "\n",
    "# Empty list to store user data\n",
    "users = []\n",
    "\n",
    "def sign_up():\n",
    "    name = input(\"Enter your name: \")\n",
    "    email = input(\"Enter your email ID: \")\n",
    "    password = getpass.getpass(\"Enter your password: \")\n",
    "    \n",
    "    # To check if email already exists\n",
    "    for user in users:\n",
    "        if user['Email'] == email:\n",
    "            print(\"Email already registered. Try logging in.\")\n",
    "            return\n",
    "    \n",
    "    user_data = {\"Name\": name, \"Email\": email, \"Password\": password}\n",
    "    users.append(user_data)\n",
    "    print(\"Sign-up successful!\")\n",
    "\n",
    "def login():\n",
    "    email = input(\"Enter your email ID: \")\n",
    "    password = getpass.getpass(\"Enter your password: \")\n",
    "    \n",
    "    for user in users:\n",
    "        if user['Email'] == email and user['Password'] == password:\n",
    "            print(\"Login successful!\")\n",
    "            return\n",
    "    print(\"Login failed! Incorrect email or password.\")\n",
    "\n",
    "def delete_user():\n",
    "    email = input(\"Enter the email ID of the user to delete: \")\n",
    "    for user in users:\n",
    "        if user['Email'] == email:\n",
    "            users.remove(user)\n",
    "            print(\"User deleted successfully!\")\n",
    "            return\n",
    "    print(\"User not found!\")\n",
    "\n",
    "def display_users():\n",
    "    if not users:\n",
    "        print(\"No users registered.\")\n",
    "        return\n",
    "    print(\"\\nRegistered Users:\")\n",
    "    print(tabulate(users, headers=\"keys\", tablefmt=\"pretty\"))\n",
    "\n",
    "while True:\n",
    "    print(\"\\n1. Sign Up\\n2. Login\\n3. Delete User\\n4. Display Users\\n5. Exit\")\n",
    "    choice = input(\"Enter your choice: \")\n",
    "    \n",
    "    if choice == '1':\n",
    "        sign_up()\n",
    "    elif choice == '2':\n",
    "        login()\n",
    "    elif choice == '3':\n",
    "        delete_user()\n",
    "    elif choice == '4':\n",
    "        display_users()\n",
    "    elif choice == '5':\n",
    "        print(\"Exiting...\")\n",
    "        break\n",
    "    else:\n",
    "        print(\"Invalid choice! Please enter a number between 1 and 5.\")\n"
   ]
  },
  {
   "cell_type": "code",
   "execution_count": null,
   "metadata": {},
   "outputs": [],
   "source": []
  },
  {
   "cell_type": "code",
   "execution_count": null,
   "metadata": {},
   "outputs": [],
   "source": []
  },
  {
   "cell_type": "code",
   "execution_count": null,
   "metadata": {},
   "outputs": [],
   "source": []
  }
 ],
 "metadata": {
  "kernelspec": {
   "display_name": "base",
   "language": "python",
   "name": "python3"
  },
  "language_info": {
   "codemirror_mode": {
    "name": "ipython",
    "version": 3
   },
   "file_extension": ".py",
   "mimetype": "text/x-python",
   "name": "python",
   "nbconvert_exporter": "python",
   "pygments_lexer": "ipython3",
   "version": "3.11.4"
  }
 },
 "nbformat": 4,
 "nbformat_minor": 2
}
